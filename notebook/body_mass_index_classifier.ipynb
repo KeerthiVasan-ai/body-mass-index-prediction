{
 "cells": [
  {
   "cell_type": "markdown",
   "metadata": {},
   "source": [
    "### Importing Libraries and Defining Path"
   ]
  },
  {
   "cell_type": "code",
   "execution_count": 1,
   "metadata": {},
   "outputs": [],
   "source": [
    "import pandas as pd\n",
    "from pathlib import Path as p\n",
    "import warnings\n",
    "\n",
    "warnings.filterwarnings(\"ignore\")\n",
    "\n",
    "face_data_root = \"D:\\\\FACE-BMI\\\\face_dataset\"\n",
    "dataset = \"D:\\\\FACE-BMI\\\\dataset\\\\bmi_data_new.csv\""
   ]
  },
  {
   "cell_type": "markdown",
   "metadata": {},
   "source": [
    "### Utility Function - 1"
   ]
  },
  {
   "cell_type": "code",
   "execution_count": 2,
   "metadata": {},
   "outputs": [],
   "source": [
    "def get_index_of_digit(string):\n",
    "    import re\n",
    "    match = re.search(\"\\d\", p(string).stem)\n",
    "    return match.start(0)\n",
    "\n",
    "def calculate_bmi(height, weight):\n",
    "    return weight / (height ** 2)"
   ]
  },
  {
   "cell_type": "markdown",
   "metadata": {},
   "source": [
    "### Prepare the Dataframe and Calculate BMI"
   ]
  },
  {
   "cell_type": "code",
   "execution_count": 3,
   "metadata": {},
   "outputs": [
    {
     "name": "stdout",
     "output_type": "stream",
     "text": [
      "Total 254 photos \n"
     ]
    }
   ],
   "source": [
    "from glob import glob\n",
    "all_files = glob(face_data_root+\"/*\")\n",
    "all_jpgs = sorted([img for img in all_files if \".jpg\" in img or \".jpeg\" in img or \"JPG\" in img])\n",
    "print(\"Total {} photos \".format(len(all_jpgs)))"
   ]
  },
  {
   "cell_type": "code",
   "execution_count": 4,
   "metadata": {},
   "outputs": [
    {
     "data": {
      "text/html": [
       "<div>\n",
       "<style scoped>\n",
       "    .dataframe tbody tr th:only-of-type {\n",
       "        vertical-align: middle;\n",
       "    }\n",
       "\n",
       "    .dataframe tbody tr th {\n",
       "        vertical-align: top;\n",
       "    }\n",
       "\n",
       "    .dataframe thead th {\n",
       "        text-align: right;\n",
       "    }\n",
       "</style>\n",
       "<table border=\"1\" class=\"dataframe\">\n",
       "  <thead>\n",
       "    <tr style=\"text-align: right;\">\n",
       "      <th></th>\n",
       "      <th>id</th>\n",
       "      <th>UID</th>\n",
       "      <th>name</th>\n",
       "      <th>height</th>\n",
       "      <th>weight</th>\n",
       "    </tr>\n",
       "  </thead>\n",
       "  <tbody>\n",
       "    <tr>\n",
       "      <th>0</th>\n",
       "      <td>1</td>\n",
       "      <td>akshay</td>\n",
       "      <td>akshay kumar</td>\n",
       "      <td>1.78</td>\n",
       "      <td>80</td>\n",
       "    </tr>\n",
       "    <tr>\n",
       "      <th>1</th>\n",
       "      <td>2</td>\n",
       "      <td>ja</td>\n",
       "      <td>john abraham</td>\n",
       "      <td>1.82</td>\n",
       "      <td>94</td>\n",
       "    </tr>\n",
       "    <tr>\n",
       "      <th>2</th>\n",
       "      <td>3</td>\n",
       "      <td>varun</td>\n",
       "      <td>varun dhawan</td>\n",
       "      <td>1.68</td>\n",
       "      <td>78</td>\n",
       "    </tr>\n",
       "    <tr>\n",
       "      <th>3</th>\n",
       "      <td>4</td>\n",
       "      <td>tiger</td>\n",
       "      <td>Tiger shroff</td>\n",
       "      <td>1.75</td>\n",
       "      <td>72</td>\n",
       "    </tr>\n",
       "    <tr>\n",
       "      <th>4</th>\n",
       "      <td>5</td>\n",
       "      <td>salman</td>\n",
       "      <td>Salman khan</td>\n",
       "      <td>1.74</td>\n",
       "      <td>75</td>\n",
       "    </tr>\n",
       "  </tbody>\n",
       "</table>\n",
       "</div>"
      ],
      "text/plain": [
       "   id     UID          name  height  weight\n",
       "0   1  akshay  akshay kumar    1.78      80\n",
       "1   2      ja  john abraham    1.82      94\n",
       "2   3   varun  varun dhawan    1.68      78\n",
       "3   4   tiger  Tiger shroff    1.75      72\n",
       "4   5  salman   Salman khan    1.74      75"
      ]
     },
     "execution_count": 4,
     "metadata": {},
     "output_type": "execute_result"
    }
   ],
   "source": [
    "id_path = [(p(images).stem[:(get_index_of_digit(p(images).stem))],images) for  images in all_jpgs ]\n",
    "image_df = pd.DataFrame(id_path,columns=['UID','path'])\n",
    "profile_df = pd.read_csv(dataset)\n",
    "profile_df.head()"
   ]
  },
  {
   "cell_type": "code",
   "execution_count": 5,
   "metadata": {},
   "outputs": [
    {
     "name": "stdout",
     "output_type": "stream",
     "text": [
      "<class 'pandas.core.frame.DataFrame'>\n",
      "RangeIndex: 50 entries, 0 to 49\n",
      "Data columns (total 6 columns):\n",
      " #   Column  Non-Null Count  Dtype  \n",
      "---  ------  --------------  -----  \n",
      " 0   id      50 non-null     int64  \n",
      " 1   UID     50 non-null     object \n",
      " 2   name    50 non-null     object \n",
      " 3   height  50 non-null     float64\n",
      " 4   weight  50 non-null     int64  \n",
      " 5   BMI     50 non-null     float64\n",
      "dtypes: float64(2), int64(2), object(2)\n",
      "memory usage: 2.5+ KB\n"
     ]
    }
   ],
   "source": [
    "profile_df['BMI'] = profile_df.apply(lambda row: calculate_bmi(row['height'],row['weight']),axis=1)\n",
    "profile_df.info()"
   ]
  },
  {
   "cell_type": "code",
   "execution_count": 6,
   "metadata": {},
   "outputs": [
    {
     "data": {
      "text/html": [
       "<div>\n",
       "<style scoped>\n",
       "    .dataframe tbody tr th:only-of-type {\n",
       "        vertical-align: middle;\n",
       "    }\n",
       "\n",
       "    .dataframe tbody tr th {\n",
       "        vertical-align: top;\n",
       "    }\n",
       "\n",
       "    .dataframe thead th {\n",
       "        text-align: right;\n",
       "    }\n",
       "</style>\n",
       "<table border=\"1\" class=\"dataframe\">\n",
       "  <thead>\n",
       "    <tr style=\"text-align: right;\">\n",
       "      <th></th>\n",
       "      <th>UID</th>\n",
       "      <th>path</th>\n",
       "      <th>id</th>\n",
       "      <th>name</th>\n",
       "      <th>height</th>\n",
       "      <th>weight</th>\n",
       "      <th>BMI</th>\n",
       "    </tr>\n",
       "  </thead>\n",
       "  <tbody>\n",
       "    <tr>\n",
       "      <th>0</th>\n",
       "      <td>akshay</td>\n",
       "      <td>D:\\FACE-BMI\\face_dataset\\akshay1.jpeg</td>\n",
       "      <td>1</td>\n",
       "      <td>akshay kumar</td>\n",
       "      <td>1.78</td>\n",
       "      <td>80</td>\n",
       "      <td>25.249337</td>\n",
       "    </tr>\n",
       "    <tr>\n",
       "      <th>1</th>\n",
       "      <td>akshay</td>\n",
       "      <td>D:\\FACE-BMI\\face_dataset\\akshay10.jpg</td>\n",
       "      <td>1</td>\n",
       "      <td>akshay kumar</td>\n",
       "      <td>1.78</td>\n",
       "      <td>80</td>\n",
       "      <td>25.249337</td>\n",
       "    </tr>\n",
       "    <tr>\n",
       "      <th>2</th>\n",
       "      <td>akshay</td>\n",
       "      <td>D:\\FACE-BMI\\face_dataset\\akshay11.jpg</td>\n",
       "      <td>1</td>\n",
       "      <td>akshay kumar</td>\n",
       "      <td>1.78</td>\n",
       "      <td>80</td>\n",
       "      <td>25.249337</td>\n",
       "    </tr>\n",
       "    <tr>\n",
       "      <th>3</th>\n",
       "      <td>akshay</td>\n",
       "      <td>D:\\FACE-BMI\\face_dataset\\akshay12.jpg</td>\n",
       "      <td>1</td>\n",
       "      <td>akshay kumar</td>\n",
       "      <td>1.78</td>\n",
       "      <td>80</td>\n",
       "      <td>25.249337</td>\n",
       "    </tr>\n",
       "    <tr>\n",
       "      <th>4</th>\n",
       "      <td>akshay</td>\n",
       "      <td>D:\\FACE-BMI\\face_dataset\\akshay13.jpg</td>\n",
       "      <td>1</td>\n",
       "      <td>akshay kumar</td>\n",
       "      <td>1.78</td>\n",
       "      <td>80</td>\n",
       "      <td>25.249337</td>\n",
       "    </tr>\n",
       "    <tr>\n",
       "      <th>...</th>\n",
       "      <td>...</td>\n",
       "      <td>...</td>\n",
       "      <td>...</td>\n",
       "      <td>...</td>\n",
       "      <td>...</td>\n",
       "      <td>...</td>\n",
       "      <td>...</td>\n",
       "    </tr>\n",
       "    <tr>\n",
       "      <th>249</th>\n",
       "      <td>vimal</td>\n",
       "      <td>D:\\FACE-BMI\\face_dataset\\vimal1.jpg</td>\n",
       "      <td>45</td>\n",
       "      <td>vimal</td>\n",
       "      <td>1.75</td>\n",
       "      <td>69</td>\n",
       "      <td>22.530612</td>\n",
       "    </tr>\n",
       "    <tr>\n",
       "      <th>250</th>\n",
       "      <td>vishal</td>\n",
       "      <td>D:\\FACE-BMI\\face_dataset\\vishal1.jpg</td>\n",
       "      <td>35</td>\n",
       "      <td>vishal</td>\n",
       "      <td>1.80</td>\n",
       "      <td>73</td>\n",
       "      <td>22.530864</td>\n",
       "    </tr>\n",
       "    <tr>\n",
       "      <th>251</th>\n",
       "      <td>vishnuvishal</td>\n",
       "      <td>D:\\FACE-BMI\\face_dataset\\vishnuvishal1.jpg</td>\n",
       "      <td>46</td>\n",
       "      <td>vishnuvishal</td>\n",
       "      <td>1.77</td>\n",
       "      <td>73</td>\n",
       "      <td>23.301095</td>\n",
       "    </tr>\n",
       "    <tr>\n",
       "      <th>252</th>\n",
       "      <td>vjantony</td>\n",
       "      <td>D:\\FACE-BMI\\face_dataset\\vjantony1.jpg</td>\n",
       "      <td>49</td>\n",
       "      <td>vjantony</td>\n",
       "      <td>1.75</td>\n",
       "      <td>67</td>\n",
       "      <td>21.877551</td>\n",
       "    </tr>\n",
       "    <tr>\n",
       "      <th>253</th>\n",
       "      <td>vjsethu</td>\n",
       "      <td>D:\\FACE-BMI\\face_dataset\\vjsethu1.jpg</td>\n",
       "      <td>48</td>\n",
       "      <td>vjsethu</td>\n",
       "      <td>1.77</td>\n",
       "      <td>84</td>\n",
       "      <td>26.812219</td>\n",
       "    </tr>\n",
       "  </tbody>\n",
       "</table>\n",
       "<p>254 rows × 7 columns</p>\n",
       "</div>"
      ],
      "text/plain": [
       "              UID                                        path  id  \\\n",
       "0          akshay       D:\\FACE-BMI\\face_dataset\\akshay1.jpeg   1   \n",
       "1          akshay       D:\\FACE-BMI\\face_dataset\\akshay10.jpg   1   \n",
       "2          akshay       D:\\FACE-BMI\\face_dataset\\akshay11.jpg   1   \n",
       "3          akshay       D:\\FACE-BMI\\face_dataset\\akshay12.jpg   1   \n",
       "4          akshay       D:\\FACE-BMI\\face_dataset\\akshay13.jpg   1   \n",
       "..            ...                                         ...  ..   \n",
       "249         vimal         D:\\FACE-BMI\\face_dataset\\vimal1.jpg  45   \n",
       "250        vishal        D:\\FACE-BMI\\face_dataset\\vishal1.jpg  35   \n",
       "251  vishnuvishal  D:\\FACE-BMI\\face_dataset\\vishnuvishal1.jpg  46   \n",
       "252      vjantony      D:\\FACE-BMI\\face_dataset\\vjantony1.jpg  49   \n",
       "253       vjsethu       D:\\FACE-BMI\\face_dataset\\vjsethu1.jpg  48   \n",
       "\n",
       "             name  height  weight        BMI  \n",
       "0    akshay kumar    1.78      80  25.249337  \n",
       "1    akshay kumar    1.78      80  25.249337  \n",
       "2    akshay kumar    1.78      80  25.249337  \n",
       "3    akshay kumar    1.78      80  25.249337  \n",
       "4    akshay kumar    1.78      80  25.249337  \n",
       "..            ...     ...     ...        ...  \n",
       "249         vimal    1.75      69  22.530612  \n",
       "250        vishal    1.80      73  22.530864  \n",
       "251  vishnuvishal    1.77      73  23.301095  \n",
       "252      vjantony    1.75      67  21.877551  \n",
       "253       vjsethu    1.77      84  26.812219  \n",
       "\n",
       "[254 rows x 7 columns]"
      ]
     },
     "execution_count": 6,
     "metadata": {},
     "output_type": "execute_result"
    }
   ],
   "source": [
    "data_df = image_df.merge(profile_df)\n",
    "data_df"
   ]
  },
  {
   "cell_type": "markdown",
   "metadata": {},
   "source": [
    "### Extract Face Embedding using Facenet Pretrained Architecture"
   ]
  },
  {
   "cell_type": "code",
   "execution_count": 7,
   "metadata": {},
   "outputs": [],
   "source": [
    "import face_recognition\n",
    "import numpy as np"
   ]
  },
  {
   "cell_type": "markdown",
   "metadata": {},
   "source": [
    "### Utility Function - 2"
   ]
  },
  {
   "cell_type": "code",
   "execution_count": 15,
   "metadata": {},
   "outputs": [],
   "source": [
    "face_count = 0\n",
    "\n",
    "def get_face_encoding(image_path):\n",
    "    global face_count\n",
    "    face_count = face_count + 1\n",
    "    picture_of_me = face_recognition.load_image_file(image_path)\n",
    "    my_face_encoding = face_recognition.face_encodings(picture_of_me)\n",
    "    if not my_face_encoding:\n",
    "        print(\"no face found !!!\")\n",
    "        return np.zeros(128).tolist()\n",
    "    return my_face_encoding[0].tolist()"
   ]
  },
  {
   "cell_type": "code",
   "execution_count": 16,
   "metadata": {},
   "outputs": [
    {
     "name": "stdout",
     "output_type": "stream",
     "text": [
      "no face found !!!\n",
      "no face found !!!\n",
      "no face found !!!\n",
      "Found 254 of 254 Faces\n"
     ]
    }
   ],
   "source": [
    "all_faces = []\n",
    "\n",
    "for images in data_df.path:\n",
    "    face_enc = get_face_encoding(images)\n",
    "    all_faces.append(face_enc)\n",
    "\n",
    "print(f\"Found {face_count} of {len(all_jpgs)} Faces\")"
   ]
  },
  {
   "cell_type": "markdown",
   "metadata": {},
   "source": [
    "### Extracting Data and Creating Splits"
   ]
  },
  {
   "cell_type": "code",
   "execution_count": 17,
   "metadata": {},
   "outputs": [],
   "source": [
    "X=np.array(all_faces)\n",
    "y=np.array(all_faces)"
   ]
  },
  {
   "cell_type": "code",
   "execution_count": 18,
   "metadata": {},
   "outputs": [],
   "source": [
    "y_height = data_df.height.values\n",
    "y_weight = data_df.weight.values\n",
    "y_BMI = data_df.BMI.values"
   ]
  },
  {
   "cell_type": "code",
   "execution_count": 19,
   "metadata": {},
   "outputs": [],
   "source": [
    "from sklearn.model_selection import train_test_split\n",
    "X_train, X_test, y_height_train, y_height_test, y_weight_train, y_weight_test ,y_BMI_train, y_BMI_test = train_test_split(X, y_height,y_weight,y_BMI, random_state=1)"
   ]
  },
  {
   "cell_type": "markdown",
   "metadata": {},
   "source": [
    "### Utility Function - 3"
   ]
  },
  {
   "cell_type": "code",
   "execution_count": 20,
   "metadata": {},
   "outputs": [],
   "source": [
    "from sklearn.metrics import mean_squared_error, r2_score\n",
    "\n",
    "def report_goodness(model,X_test,y_test,predictor_log=True):\n",
    "    y_pred = model.predict(X_test)\n",
    "    y_true = y_test\n",
    "    if predictor_log:\n",
    "        y_true = np.log(y_test)\n",
    "    print(f\"Mean squared error: {mean_squared_error(y_true, y_pred)}\")\n",
    "    print(f\"Variance score:{r2_score(y_true, y_pred)}\")\n",
    "    \n",
    "    errors = abs(y_pred - y_true)\n",
    "    mape = 100 * np.mean(errors / y_true)\n",
    "    accuracy = 100 - mape\n",
    "    print('Model Performance')\n",
    "    print('Average Error: {:0.4f} degrees.'.format(np.mean(errors)))\n",
    "    print('Accuracy = {:0.2f}%.'.format(accuracy))\n",
    "    return accuracy"
   ]
  },
  {
   "cell_type": "markdown",
   "metadata": {},
   "source": [
    "## Model selection "
   ]
  },
  {
   "cell_type": "code",
   "execution_count": 21,
   "metadata": {},
   "outputs": [],
   "source": [
    "from sklearn.kernel_ridge import KernelRidge\n",
    "from sklearn.linear_model import LinearRegression, Ridge\n",
    "from sklearn.svm import SVR\n",
    "from sklearn.ensemble import RandomForestRegressor"
   ]
  },
  {
   "cell_type": "markdown",
   "metadata": {},
   "source": [
    "### Simple Linear Regression"
   ]
  },
  {
   "cell_type": "code",
   "execution_count": 22,
   "metadata": {},
   "outputs": [
    {
     "name": "stdout",
     "output_type": "stream",
     "text": [
      "Defining Height Model\n",
      "Mean squared error: 0.001053435591645059\n",
      "Variance score:0.07940225751201224\n",
      "Model Performance\n",
      "Average Error: 0.0258 degrees.\n",
      "Accuracy = 95.25%.\n",
      "\n",
      "Defining Weigth Model\n",
      "Mean squared error: 0.008318816086134304\n",
      "Variance score:0.43335817648645114\n",
      "Model Performance\n",
      "Average Error: 0.0765 degrees.\n",
      "Accuracy = 98.22%.\n",
      "\n",
      "Defining BMI Model\n",
      "Mean squared error: 0.006065600894089857\n",
      "Variance score:0.373871629629013\n",
      "Model Performance\n",
      "Average Error: 0.0614 degrees.\n",
      "Accuracy = 98.05%.\n"
     ]
    }
   ],
   "source": [
    "print(\"Defining Height Model\")\n",
    "lr_model_height = LinearRegression()\n",
    "lr_model_height = lr_model_height.fit(X_train,np.log(y_height_train))\n",
    "lr_height_accuracy = report_goodness(lr_model_height,X_test,y_height_test)\n",
    "\n",
    "print(\"\\nDefining Weigth Model\")\n",
    "lr_model_weight = LinearRegression()\n",
    "lr_model_weight = lr_model_weight.fit(X_train,np.log(y_weight_train))\n",
    "lr_weight_accuracy = report_goodness(lr_model_weight,X_test,y_weight_test)\n",
    "\n",
    "print(\"\\nDefining BMI Model\")\n",
    "lr_model_BMI = LinearRegression()\n",
    "lr_model_BMI = lr_model_BMI.fit(X_train,np.log(y_BMI_train))\n",
    "lr_bmi_accuracy = report_goodness(lr_model_BMI,X_test,y_BMI_test)"
   ]
  },
  {
   "cell_type": "markdown",
   "metadata": {},
   "source": [
    "### Ridge Linear Regression"
   ]
  },
  {
   "cell_type": "code",
   "execution_count": 23,
   "metadata": {},
   "outputs": [
    {
     "name": "stdout",
     "output_type": "stream",
     "text": [
      "Defining Height Model\n",
      "Mean squared error: 0.0006829212426303398\n",
      "Variance score:0.4031948804000418\n",
      "Model Performance\n",
      "Average Error: 0.0217 degrees.\n",
      "Accuracy = 96.02%.\n",
      "\n",
      "Defining Weight Model\n",
      "Mean squared error: 0.0075653229198650125\n",
      "Variance score:0.484682876698478\n",
      "Model Performance\n",
      "Average Error: 0.0693 degrees.\n",
      "Accuracy = 98.38%.\n",
      "\n",
      "Defining BMI Model\n",
      "Mean squared error: 0.0050573285785836435\n",
      "Variance score:0.4779516561294731\n",
      "Model Performance\n",
      "Average Error: 0.0507 degrees.\n",
      "Accuracy = 98.40%.\n"
     ]
    }
   ],
   "source": [
    "print(\"Defining Height Model\")\n",
    "ridge_model_height = Ridge(fit_intercept=True, alpha=0.0015, random_state=4)\n",
    "ridge_model_height = ridge_model_height.fit(X_train,np.log(y_height_train))\n",
    "ridge_model_height_accuracy = report_goodness(ridge_model_height,X_test,y_height_test)\n",
    "\n",
    "print(\"\\nDefining Weight Model\")\n",
    "ridge_model_weight = Ridge(fit_intercept=True, alpha=0.0015, random_state=4)\n",
    "ridge_model_weight = ridge_model_weight.fit(X_train,np.log(y_weight_train))\n",
    "ridge_model_weight_accuracy = report_goodness(ridge_model_weight,X_test,y_weight_test)\n",
    "\n",
    "print(\"\\nDefining BMI Model\")\n",
    "ridge_model_BMI = Ridge(fit_intercept=True, alpha=0.0015, random_state=4)\n",
    "ridge_model_BMI = ridge_model_BMI.fit(X_train,np.log(y_BMI_train))\n",
    "ridge_model_bmi_accuracy = report_goodness(ridge_model_BMI,X_test,y_BMI_test)"
   ]
  },
  {
   "cell_type": "markdown",
   "metadata": {},
   "source": [
    "### Random Forest Regressor"
   ]
  },
  {
   "cell_type": "code",
   "execution_count": 24,
   "metadata": {},
   "outputs": [
    {
     "name": "stdout",
     "output_type": "stream",
     "text": [
      "\n",
      "Defining Height Model\n",
      "Mean squared error: 0.0006826519082135541\n",
      "Variance score:0.4034302518437578\n",
      "Model Performance\n",
      "Average Error: 0.0208 degrees.\n",
      "Accuracy = 96.19%.\n",
      "\n",
      "Defining Weigth Model\n",
      "Mean squared error: 0.005273172910184851\n",
      "Variance score:0.6408142357528794\n",
      "Model Performance\n",
      "Average Error: 0.0587 degrees.\n",
      "Accuracy = 98.62%.\n",
      "\n",
      "Defining BMI Model\n",
      "Mean squared error: 0.004702419280313645\n",
      "Variance score:0.5145875615303426\n",
      "Model Performance\n",
      "Average Error: 0.0469 degrees.\n",
      "Accuracy = 98.51%.\n"
     ]
    }
   ],
   "source": [
    "print(\"\\nDefining Height Model\")\n",
    "rf_model_height = RandomForestRegressor(max_depth=2, random_state=0,n_estimators=100)\n",
    "rf_model_height = rf_model_height.fit(X_train,np.log(y_height_train))\n",
    "rf_height_accuracy = report_goodness(rf_model_height,X_test,y_height_test)\n",
    "\n",
    "print(\"\\nDefining Weigth Model\")\n",
    "rf_model_weight = RandomForestRegressor(max_depth=2, random_state=0,n_estimators=100)\n",
    "rf_model_weight = rf_model_weight.fit(X_train,np.log(y_weight_train))\n",
    "rf_weight_accuracy = report_goodness(rf_model_weight,X_test,y_weight_test)\n",
    "\n",
    "print(\"\\nDefining BMI Model\")\n",
    "rf_model_BMI = RandomForestRegressor(max_depth=2, random_state=0,n_estimators=100)\n",
    "rf_model_BMI = rf_model_BMI.fit(X_train,np.log(y_BMI_train))\n",
    "rf_bmi_accuracy = report_goodness(rf_model_BMI,X_test,y_BMI_test)"
   ]
  },
  {
   "cell_type": "markdown",
   "metadata": {},
   "source": [
    "### Random Forest Regressor Using Hyperparameter Tuning"
   ]
  },
  {
   "cell_type": "code",
   "execution_count": 25,
   "metadata": {},
   "outputs": [],
   "source": [
    "from sklearn.model_selection import RandomizedSearchCV\n",
    "n_estimators = [int(x) for x in np.linspace(start = 10, stop = 1000, num = 10)]\n",
    "max_features = ['auto', 'sqrt']\n",
    "max_depth = [int(x) for x in np.linspace(10, 100, num = 11)]\n",
    "max_depth.append(None)\n",
    "min_samples_split = [2, 5, 10]\n",
    "min_samples_leaf = [1, 2, 4]\n",
    "bootstrap = [True, False]\n",
    "random_grid = {'n_estimators': n_estimators,\n",
    "               'max_features': max_features,\n",
    "               'max_depth': max_depth,\n",
    "               'min_samples_split': min_samples_split,\n",
    "               'min_samples_leaf': min_samples_leaf,\n",
    "               'bootstrap': bootstrap}"
   ]
  },
  {
   "cell_type": "code",
   "execution_count": 26,
   "metadata": {},
   "outputs": [
    {
     "name": "stdout",
     "output_type": "stream",
     "text": [
      "\n",
      "Defining Height Model\n",
      "Fitting 3 folds for each of 100 candidates, totalling 300 fits\n",
      "Mean squared error: 0.0003589646115940827\n",
      "Variance score:0.6863006967986187\n",
      "Model Performance\n",
      "Average Error: 0.0139 degrees.\n",
      "Accuracy = 97.45%.\n",
      "\n",
      "Defining Weigth Model\n",
      "Fitting 3 folds for each of 100 candidates, totalling 300 fits\n",
      "Mean squared error: 0.003788603507130895\n",
      "Variance score:0.7419366917572918\n",
      "Model Performance\n",
      "Average Error: 0.0457 degrees.\n",
      "Accuracy = 98.93%.\n",
      "\n",
      "Defining BMI Model\n",
      "Fitting 3 folds for each of 100 candidates, totalling 300 fits\n",
      "Mean squared error: 0.0030040952034336363\n",
      "Variance score:0.6898989453793534\n",
      "Model Performance\n",
      "Average Error: 0.0340 degrees.\n",
      "Accuracy = 98.91%.\n"
     ]
    }
   ],
   "source": [
    "rf = RandomForestRegressor()\n",
    "\n",
    "print(\"\\nDefining Height Model\")\n",
    "rf_new_height_model = RandomizedSearchCV(estimator = rf, param_distributions = random_grid, n_iter = 100, cv = 3, verbose=2, random_state=42, n_jobs = -1)\n",
    "rf_new_height_model.fit(X_train,np.log(y_height_train))\n",
    "rf_new_height_accuracy = report_goodness(rf_new_height_model,X_test,y_height_test)\n",
    "\n",
    "print(\"\\nDefining Weigth Model\")\n",
    "rf_new_weight_model = RandomizedSearchCV(estimator = rf, param_distributions = random_grid, n_iter = 100, cv = 3, verbose=2, random_state=42, n_jobs = -1)\n",
    "rf_new_weight_model.fit(X_train,np.log(y_weight_train))\n",
    "rf_new_weight_accuracy = report_goodness(rf_new_weight_model,X_test,y_weight_test)\n",
    "\n",
    "print(\"\\nDefining BMI Model\")\n",
    "rf_new_BMI_model = RandomizedSearchCV(estimator = rf, param_distributions = random_grid, n_iter = 100, cv = 3, verbose=2, random_state=42, n_jobs = -1)\n",
    "rf_new_BMI_model.fit(X_train,np.log(y_BMI_train))\n",
    "rf_new_bmi_accuracy = report_goodness(rf_new_BMI_model,X_test,y_BMI_test)\n"
   ]
  },
  {
   "cell_type": "markdown",
   "metadata": {},
   "source": [
    "### Kernel Ridge"
   ]
  },
  {
   "cell_type": "code",
   "execution_count": 27,
   "metadata": {},
   "outputs": [
    {
     "name": "stdout",
     "output_type": "stream",
     "text": [
      "\n",
      "Defining Height Model\n",
      "Mean squared error: 0.00033572444853156494\n",
      "Variance score:0.7066102836590703\n",
      "Model Performance\n",
      "Average Error: 0.0145 degrees.\n",
      "Accuracy = 97.32%.\n",
      "\n",
      "Defining Weigth Model\n",
      "Mean squared error: 0.004354298677907784\n",
      "Variance score:0.7034039799143039\n",
      "Model Performance\n",
      "Average Error: 0.0485 degrees.\n",
      "Accuracy = 98.86%.\n",
      "\n",
      "Defining BMI Model\n",
      "Mean squared error: 0.003385572688554717\n",
      "Variance score:0.6505205094646501\n",
      "Model Performance\n",
      "Average Error: 0.0401 degrees.\n",
      "Accuracy = 98.73%.\n"
     ]
    }
   ],
   "source": [
    "print(\"\\nDefining Height Model\")\n",
    "kernel_ridge_model_height = KernelRidge(kernel='rbf', gamma=0.21,alpha=0.0017)\n",
    "kernel_ridge_model_height = kernel_ridge_model_height.fit(X_train,np.log(y_height_train))\n",
    "kernel_ridge_height_accuracy = report_goodness(kernel_ridge_model_height,X_test,y_height_test)\n",
    "\n",
    "print(\"\\nDefining Weigth Model\")\n",
    "kernel_ridge_model_weight = KernelRidge(kernel='rbf', gamma=0.21,alpha=0.0017)\n",
    "kernel_ridge_model_weight = kernel_ridge_model_weight.fit(X_train,np.log(y_weight_train))\n",
    "kernel_ridge_weight_accuracy = report_goodness(kernel_ridge_model_weight,X_test,y_weight_test)\n",
    "\n",
    "print(\"\\nDefining BMI Model\")\n",
    "kernel_ridge_model_BMI = KernelRidge(kernel='rbf', gamma=0.21,alpha=0.0017)\n",
    "model_BMI = kernel_ridge_model_BMI.fit(X_train,np.log(y_BMI_train))\n",
    "kernel_ridge_bmi_accuracy = report_goodness(model_BMI,X_test,y_BMI_test)"
   ]
  },
  {
   "cell_type": "markdown",
   "metadata": {},
   "source": [
    "### Model Selection Report"
   ]
  },
  {
   "cell_type": "code",
   "execution_count": 28,
   "metadata": {},
   "outputs": [
    {
     "data": {
      "text/html": [
       "<div>\n",
       "<style scoped>\n",
       "    .dataframe tbody tr th:only-of-type {\n",
       "        vertical-align: middle;\n",
       "    }\n",
       "\n",
       "    .dataframe tbody tr th {\n",
       "        vertical-align: top;\n",
       "    }\n",
       "\n",
       "    .dataframe thead th {\n",
       "        text-align: right;\n",
       "    }\n",
       "</style>\n",
       "<table border=\"1\" class=\"dataframe\">\n",
       "  <thead>\n",
       "    <tr style=\"text-align: right;\">\n",
       "      <th></th>\n",
       "      <th>models</th>\n",
       "      <th>weight</th>\n",
       "      <th>height</th>\n",
       "      <th>bmi</th>\n",
       "    </tr>\n",
       "  </thead>\n",
       "  <tbody>\n",
       "    <tr>\n",
       "      <th>0</th>\n",
       "      <td>Linear Regression</td>\n",
       "      <td>98.219965</td>\n",
       "      <td>95.250986</td>\n",
       "      <td>98.050062</td>\n",
       "    </tr>\n",
       "    <tr>\n",
       "      <th>1</th>\n",
       "      <td>Ridge Linear Regression</td>\n",
       "      <td>98.379823</td>\n",
       "      <td>96.017262</td>\n",
       "      <td>98.402055</td>\n",
       "    </tr>\n",
       "    <tr>\n",
       "      <th>2</th>\n",
       "      <td>Random Forest Regressor</td>\n",
       "      <td>98.624357</td>\n",
       "      <td>96.190849</td>\n",
       "      <td>98.513821</td>\n",
       "    </tr>\n",
       "    <tr>\n",
       "      <th>3</th>\n",
       "      <td>Random Forest Regressor(HT)</td>\n",
       "      <td>98.925937</td>\n",
       "      <td>97.454386</td>\n",
       "      <td>98.914373</td>\n",
       "    </tr>\n",
       "    <tr>\n",
       "      <th>4</th>\n",
       "      <td>Kernel ridge</td>\n",
       "      <td>98.861501</td>\n",
       "      <td>97.322592</td>\n",
       "      <td>98.727816</td>\n",
       "    </tr>\n",
       "  </tbody>\n",
       "</table>\n",
       "</div>"
      ],
      "text/plain": [
       "                        models     weight     height        bmi\n",
       "0            Linear Regression  98.219965  95.250986  98.050062\n",
       "1      Ridge Linear Regression  98.379823  96.017262  98.402055\n",
       "2      Random Forest Regressor  98.624357  96.190849  98.513821\n",
       "3  Random Forest Regressor(HT)  98.925937  97.454386  98.914373\n",
       "4                 Kernel ridge  98.861501  97.322592  98.727816"
      ]
     },
     "execution_count": 28,
     "metadata": {},
     "output_type": "execute_result"
    }
   ],
   "source": [
    "report = {\n",
    "    'models':[\"Linear Regression\",\"Ridge Linear Regression\",\"Random Forest Regressor\",\"Random Forest Regressor(HT)\",\"Kernel ridge\"],\n",
    "    'weight':[lr_weight_accuracy,ridge_model_weight_accuracy,rf_weight_accuracy,rf_new_weight_accuracy,kernel_ridge_weight_accuracy],\n",
    "    'height':[lr_height_accuracy,ridge_model_height_accuracy,rf_height_accuracy,rf_new_height_accuracy,kernel_ridge_height_accuracy],\n",
    "    'bmi':[lr_bmi_accuracy,ridge_model_bmi_accuracy,rf_bmi_accuracy,rf_new_bmi_accuracy,kernel_ridge_bmi_accuracy]\n",
    "}\n",
    "\n",
    "report_df = pd.DataFrame(report)\n",
    "report_df"
   ]
  },
  {
   "cell_type": "markdown",
   "metadata": {},
   "source": [
    "#### From the above report we can to conclude that `Random Forest Regressor with RandomizedSearch CV` is giving better accuracy for all the models, we are proceding with that model further."
   ]
  },
  {
   "cell_type": "markdown",
   "metadata": {},
   "source": [
    "### Save the Model"
   ]
  },
  {
   "cell_type": "code",
   "execution_count": 29,
   "metadata": {},
   "outputs": [],
   "source": [
    "import joblib\n",
    "model_path = \"D:\\\\FACE-BMI\\\\models\""
   ]
  },
  {
   "cell_type": "code",
   "execution_count": 30,
   "metadata": {},
   "outputs": [
    {
     "name": "stdout",
     "output_type": "stream",
     "text": [
      "Models Saved Successfully\n"
     ]
    }
   ],
   "source": [
    "joblib.dump(rf_new_height_model, f'{model_path}\\\\height_model')\n",
    "joblib.dump(rf_new_weight_model, f'{model_path}\\\\weight_model')\n",
    "joblib.dump(rf_new_BMI_model, f'{model_path}\\\\bmi_model')\n",
    "\n",
    "print(\"Models Saved Successfully\")"
   ]
  },
  {
   "cell_type": "markdown",
   "metadata": {},
   "source": [
    "### Load the Model from Disk"
   ]
  },
  {
   "cell_type": "code",
   "execution_count": 31,
   "metadata": {},
   "outputs": [],
   "source": [
    "height_model = joblib.load(f'{model_path}\\\\height_model')\n",
    "weight_model = joblib.load(f'{model_path}\\\\weight_model')\n",
    "bmi_model = joblib.load(f'{model_path}\\\\bmi_model')"
   ]
  },
  {
   "cell_type": "markdown",
   "metadata": {},
   "source": [
    "### Testing the Model Builded "
   ]
  },
  {
   "cell_type": "markdown",
   "metadata": {},
   "source": [
    "### Utility Function - 4"
   ]
  },
  {
   "cell_type": "code",
   "execution_count": 32,
   "metadata": {},
   "outputs": [],
   "source": [
    "import numpy\n",
    "\n",
    "def patch_asscalar(a):\n",
    "    return a.item()\n",
    "\n",
    "setattr(numpy, \"asscalar\", patch_asscalar)\n",
    "\n",
    "def predict_height_width_BMI(test_image,height_model,weight_model,bmi_model):\n",
    "    test_array = np.expand_dims(np.array(get_face_encoding(test_image)),axis=0)\n",
    "    height = np.asscalar(np.exp(height_model.predict(test_array)))\n",
    "    weight = np.asscalar(np.exp(weight_model.predict(test_array)))\n",
    "    bmi = np.asscalar(np.exp(bmi_model.predict(test_array)))\n",
    "    return {'height':height,'weight':weight,'bmi':bmi}"
   ]
  },
  {
   "cell_type": "markdown",
   "metadata": {},
   "source": [
    "### Prediction"
   ]
  },
  {
   "cell_type": "code",
   "execution_count": 33,
   "metadata": {},
   "outputs": [],
   "source": [
    "from IPython.display import Image"
   ]
  },
  {
   "cell_type": "code",
   "execution_count": 34,
   "metadata": {},
   "outputs": [
    {
     "data": {
      "image/jpeg": "[encoded data removed]",
      "text/plain": [
       "<IPython.core.display.Image object>"
      ]
     },
     "execution_count": 34,
     "metadata": {},
     "output_type": "execute_result"
    }
   ],
   "source": [
    "test_image = \"D:\\\\FACE-BMI\\\\dataset\\\\test\\\\virat.jpeg\"\n",
    "Image(test_image)"
   ]
  },
  {
   "cell_type": "code",
   "execution_count": 35,
   "metadata": {},
   "outputs": [
    {
     "data": {
      "text/plain": [
       "{'height': 1.715572539412927,\n",
       " 'weight': 77.12419010166147,\n",
       " 'bmi': 26.085243020708756}"
      ]
     },
     "execution_count": 35,
     "metadata": {},
     "output_type": "execute_result"
    }
   ],
   "source": [
    "predict_height_width_BMI(test_image,height_model,weight_model,bmi_model)"
   ]
  },
  {
   "cell_type": "code",
   "execution_count": 36,
   "metadata": {},
   "outputs": [
    {
     "data": {
      "image/jpeg": "[encoded data removed]",
      "text/plain": [
       "<IPython.core.display.Image object>"
      ]
     },
     "execution_count": 36,
     "metadata": {},
     "output_type": "execute_result"
    }
   ],
   "source": [
    "test_image = \"D:\\\\FACE-BMI\\\\dataset\\\\test\\\\smirti.jpeg\"\n",
    "Image(test_image)"
   ]
  },
  {
   "cell_type": "code",
   "execution_count": 37,
   "metadata": {},
   "outputs": [
    {
     "data": {
      "text/plain": [
       "{'height': 1.6690252444799227,\n",
       " 'weight': 61.57928891755291,\n",
       " 'bmi': 22.703185292858254}"
      ]
     },
     "execution_count": 37,
     "metadata": {},
     "output_type": "execute_result"
    }
   ],
   "source": [
    "predict_height_width_BMI(test_image,height_model,weight_model,bmi_model)"
   ]
  },
  {
   "cell_type": "code",
   "execution_count": null,
   "metadata": {},
   "outputs": [],
   "source": []
  }
 ],
 "metadata": {
  "kernelspec": {
   "display_name": "Python 3 (ipykernel)",
   "language": "python",
   "name": "python3"
  },
  "language_info": {
   "codemirror_mode": {
    "name": "ipython",
    "version": 3
   },
   "file_extension": ".py",
   "mimetype": "text/x-python",
   "name": "python",
   "nbconvert_exporter": "python",
   "pygments_lexer": "ipython3",
   "version": "3.11.7"
  }
 },
 "nbformat": 4,
 "nbformat_minor": 4
}
